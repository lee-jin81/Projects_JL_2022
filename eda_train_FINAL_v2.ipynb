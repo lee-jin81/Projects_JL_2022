{
 "cells": [
  {
   "cell_type": "markdown",
   "id": "1016ed46",
   "metadata": {},
   "source": [
    "# Using data for optimal train usage"
   ]
  },
  {
   "cell_type": "markdown",
   "id": "29ae7693",
   "metadata": {},
   "source": [
    "### Abstract\n",
    "In this project, I am analyzing subway station entry data to recommend a train schedule that will optimize passenger experience by sending the most trains at the times of the most entries. By calculating an optimal train schedule based on the usage data, trains can be more efficiently used throughout the day. As a proof of concept, I focused on portions of the train 1 mta turnstile data only and compared it to the train 1 schedule. \n",
    "\n",
    "Based on my analysis, the peak usage of train 1 subways is slightly shifted from the peak hours of ridership. Instead, trains are arriving more frequently after peak ridership. For a train schedule that will more efficiently use trains, train arrivals should be shifted by 1 hour earlier allowing riders to get on them during peak hours. The same analysis can be applied to other trains to identify any need for an updated train schedule.\n",
    "\n",
    "**Source of data: http://web.mta.info/developers/turnstile.html**"
   ]
  },
  {
   "cell_type": "markdown",
   "id": "4552e006",
   "metadata": {},
   "source": [
    "### Retrieve data "
   ]
  },
  {
   "cell_type": "code",
   "execution_count": 1,
   "id": "2c9ae06f",
   "metadata": {},
   "outputs": [],
   "source": [
    "#import libraries and packages\n",
    "from sqlalchemy import create_engine\n",
    "import pandas as pd\n",
    "import datetime\n",
    "import matplotlib.pyplot as plt\n",
    "import numpy as np\n",
    "from datetime import datetime, timedelta"
   ]
  },
  {
   "cell_type": "code",
   "execution_count": 2,
   "id": "0727c421",
   "metadata": {},
   "outputs": [
    {
     "data": {
      "text/html": [
       "<div>\n",
       "<style scoped>\n",
       "    .dataframe tbody tr th:only-of-type {\n",
       "        vertical-align: middle;\n",
       "    }\n",
       "\n",
       "    .dataframe tbody tr th {\n",
       "        vertical-align: top;\n",
       "    }\n",
       "\n",
       "    .dataframe thead th {\n",
       "        text-align: right;\n",
       "    }\n",
       "</style>\n",
       "<table border=\"1\" class=\"dataframe\">\n",
       "  <thead>\n",
       "    <tr style=\"text-align: right;\">\n",
       "      <th></th>\n",
       "      <th>C/A</th>\n",
       "      <th>UNIT</th>\n",
       "      <th>SCP</th>\n",
       "      <th>STATION</th>\n",
       "      <th>LINENAME</th>\n",
       "      <th>DIVISION</th>\n",
       "      <th>DATE</th>\n",
       "      <th>TIME</th>\n",
       "      <th>DESC</th>\n",
       "      <th>ENTRIES</th>\n",
       "      <th>EXITS</th>\n",
       "    </tr>\n",
       "  </thead>\n",
       "  <tbody>\n",
       "    <tr>\n",
       "      <th>0</th>\n",
       "      <td>A002</td>\n",
       "      <td>R051</td>\n",
       "      <td>02-00-00</td>\n",
       "      <td>59 ST</td>\n",
       "      <td>NQR456W</td>\n",
       "      <td>BMT</td>\n",
       "      <td>12/18/2021</td>\n",
       "      <td>03:00:00</td>\n",
       "      <td>REGULAR</td>\n",
       "      <td>7672966</td>\n",
       "      <td>2645023</td>\n",
       "    </tr>\n",
       "    <tr>\n",
       "      <th>1</th>\n",
       "      <td>A002</td>\n",
       "      <td>R051</td>\n",
       "      <td>02-00-00</td>\n",
       "      <td>59 ST</td>\n",
       "      <td>NQR456W</td>\n",
       "      <td>BMT</td>\n",
       "      <td>12/18/2021</td>\n",
       "      <td>07:00:00</td>\n",
       "      <td>REGULAR</td>\n",
       "      <td>7672969</td>\n",
       "      <td>2645040</td>\n",
       "    </tr>\n",
       "    <tr>\n",
       "      <th>2</th>\n",
       "      <td>A002</td>\n",
       "      <td>R051</td>\n",
       "      <td>02-00-00</td>\n",
       "      <td>59 ST</td>\n",
       "      <td>NQR456W</td>\n",
       "      <td>BMT</td>\n",
       "      <td>12/18/2021</td>\n",
       "      <td>11:00:00</td>\n",
       "      <td>REGULAR</td>\n",
       "      <td>7672991</td>\n",
       "      <td>2645127</td>\n",
       "    </tr>\n",
       "    <tr>\n",
       "      <th>3</th>\n",
       "      <td>A002</td>\n",
       "      <td>R051</td>\n",
       "      <td>02-00-00</td>\n",
       "      <td>59 ST</td>\n",
       "      <td>NQR456W</td>\n",
       "      <td>BMT</td>\n",
       "      <td>12/18/2021</td>\n",
       "      <td>15:00:00</td>\n",
       "      <td>REGULAR</td>\n",
       "      <td>7673037</td>\n",
       "      <td>2645193</td>\n",
       "    </tr>\n",
       "    <tr>\n",
       "      <th>4</th>\n",
       "      <td>A002</td>\n",
       "      <td>R051</td>\n",
       "      <td>02-00-00</td>\n",
       "      <td>59 ST</td>\n",
       "      <td>NQR456W</td>\n",
       "      <td>BMT</td>\n",
       "      <td>12/18/2021</td>\n",
       "      <td>19:00:00</td>\n",
       "      <td>REGULAR</td>\n",
       "      <td>7673097</td>\n",
       "      <td>2645270</td>\n",
       "    </tr>\n",
       "  </tbody>\n",
       "</table>\n",
       "</div>"
      ],
      "text/plain": [
       "    C/A  UNIT       SCP STATION LINENAME DIVISION        DATE      TIME  \\\n",
       "0  A002  R051  02-00-00   59 ST  NQR456W      BMT  12/18/2021  03:00:00   \n",
       "1  A002  R051  02-00-00   59 ST  NQR456W      BMT  12/18/2021  07:00:00   \n",
       "2  A002  R051  02-00-00   59 ST  NQR456W      BMT  12/18/2021  11:00:00   \n",
       "3  A002  R051  02-00-00   59 ST  NQR456W      BMT  12/18/2021  15:00:00   \n",
       "4  A002  R051  02-00-00   59 ST  NQR456W      BMT  12/18/2021  19:00:00   \n",
       "\n",
       "      DESC  ENTRIES    EXITS  \n",
       "0  REGULAR  7672966  2645023  \n",
       "1  REGULAR  7672969  2645040  \n",
       "2  REGULAR  7672991  2645127  \n",
       "3  REGULAR  7673037  2645193  \n",
       "4  REGULAR  7673097  2645270  "
      ]
     },
     "execution_count": 2,
     "metadata": {},
     "output_type": "execute_result"
    }
   ],
   "source": [
    "# data is stored in SQLite\n",
    "# use engine to query data from SQL database\n",
    "engine = create_engine('sqlite:///mta_data_project.db')\n",
    "\n",
    "# load SQL database in python pandas\n",
    "# df = dataframe (spreadsheet)\n",
    "df = pd.read_sql('SELECT * FROM mta_data', engine)\n",
    "\n",
    "# overview of dataset\n",
    "df.head()"
   ]
  },
  {
   "cell_type": "markdown",
   "id": "fca4c3b0",
   "metadata": {},
   "source": [
    "### Clean data"
   ]
  },
  {
   "cell_type": "markdown",
   "id": "ccf4e276",
   "metadata": {},
   "source": [
    "Examine the data for duplicates. Define a duplicate as having the same turnstile identifier (C/A, Unit, SCP, Station) and the same date-time. A turnstile should only have 1 row since it should only have 1 value for the number of entries at a particular date and time. This code shows the existence of duplicates and then removes the rows with the fewest entries."
   ]
  },
  {
   "cell_type": "code",
   "execution_count": 3,
   "id": "3afc91aa",
   "metadata": {},
   "outputs": [],
   "source": [
    "# create a datetime column \n",
    "df['DATE_TIME'] = pd.to_datetime(df['DATE'] + \" \" + df['TIME'])\n",
    "\n",
    "# sort data in descending order (last entries first)\n",
    "df.sort_values(['C/A', 'UNIT', 'SCP', 'STATION', 'DATE_TIME'], inplace = True, ascending=False)"
   ]
  },
  {
   "cell_type": "code",
   "execution_count": 4,
   "id": "1883041c",
   "metadata": {},
   "outputs": [
    {
     "data": {
      "text/html": [
       "<div>\n",
       "<style scoped>\n",
       "    .dataframe tbody tr th:only-of-type {\n",
       "        vertical-align: middle;\n",
       "    }\n",
       "\n",
       "    .dataframe tbody tr th {\n",
       "        vertical-align: top;\n",
       "    }\n",
       "\n",
       "    .dataframe thead th {\n",
       "        text-align: right;\n",
       "    }\n",
       "</style>\n",
       "<table border=\"1\" class=\"dataframe\">\n",
       "  <thead>\n",
       "    <tr style=\"text-align: right;\">\n",
       "      <th></th>\n",
       "      <th>C/A</th>\n",
       "      <th>UNIT</th>\n",
       "      <th>SCP</th>\n",
       "      <th>STATION</th>\n",
       "      <th>DATE_TIME</th>\n",
       "      <th>ENTRIES</th>\n",
       "    </tr>\n",
       "  </thead>\n",
       "  <tbody>\n",
       "    <tr>\n",
       "      <th>405945</th>\n",
       "      <td>G001</td>\n",
       "      <td>R151</td>\n",
       "      <td>00-05-01</td>\n",
       "      <td>CONEY IS-STILLW</td>\n",
       "      <td>2021-11-08</td>\n",
       "      <td>2</td>\n",
       "    </tr>\n",
       "    <tr>\n",
       "      <th>2710700</th>\n",
       "      <td>S101</td>\n",
       "      <td>R070</td>\n",
       "      <td>00-00-02</td>\n",
       "      <td>ST. GEORGE</td>\n",
       "      <td>2021-10-02</td>\n",
       "      <td>2</td>\n",
       "    </tr>\n",
       "  </tbody>\n",
       "</table>\n",
       "</div>"
      ],
      "text/plain": [
       "          C/A  UNIT       SCP          STATION  DATE_TIME  ENTRIES\n",
       "405945   G001  R151  00-05-01  CONEY IS-STILLW 2021-11-08        2\n",
       "2710700  S101  R070  00-00-02       ST. GEORGE 2021-10-02        2"
      ]
     },
     "execution_count": 4,
     "metadata": {},
     "output_type": "execute_result"
    }
   ],
   "source": [
    "# check for duplicates\n",
    "# Note: each combination of C/A, UNIT, SCP, and STATION represents a unique turnstile \n",
    "# Each datetime should only have 1 entry per tunrstile\n",
    "# grouping data by c/a, unit, scp to represent each station at each date time entry\n",
    "(df\n",
    " .groupby(['C/A', 'UNIT', 'SCP', 'STATION', 'DATE_TIME'])\n",
    ".ENTRIES.count()\n",
    ".reset_index()\n",
    ".sort_values('ENTRIES', ascending=False)\n",
    ".head(2))"
   ]
  },
  {
   "cell_type": "code",
   "execution_count": 5,
   "id": "c60176ed",
   "metadata": {},
   "outputs": [
    {
     "data": {
      "text/html": [
       "<div>\n",
       "<style scoped>\n",
       "    .dataframe tbody tr th:only-of-type {\n",
       "        vertical-align: middle;\n",
       "    }\n",
       "\n",
       "    .dataframe tbody tr th {\n",
       "        vertical-align: top;\n",
       "    }\n",
       "\n",
       "    .dataframe thead th {\n",
       "        text-align: right;\n",
       "    }\n",
       "</style>\n",
       "<table border=\"1\" class=\"dataframe\">\n",
       "  <thead>\n",
       "    <tr style=\"text-align: right;\">\n",
       "      <th></th>\n",
       "      <th>C/A</th>\n",
       "      <th>UNIT</th>\n",
       "      <th>SCP</th>\n",
       "      <th>STATION</th>\n",
       "      <th>LINENAME</th>\n",
       "      <th>DIVISION</th>\n",
       "      <th>DATE</th>\n",
       "      <th>TIME</th>\n",
       "      <th>DESC</th>\n",
       "      <th>ENTRIES</th>\n",
       "      <th>EXITS</th>\n",
       "      <th>DATE_TIME</th>\n",
       "    </tr>\n",
       "  </thead>\n",
       "  <tbody>\n",
       "    <tr>\n",
       "      <th>1292837</th>\n",
       "      <td>G001</td>\n",
       "      <td>R151</td>\n",
       "      <td>00-05-01</td>\n",
       "      <td>CONEY IS-STILLW</td>\n",
       "      <td>DFNQ</td>\n",
       "      <td>BMT</td>\n",
       "      <td>11/08/2021</td>\n",
       "      <td>00:00:00</td>\n",
       "      <td>REGULAR</td>\n",
       "      <td>327700</td>\n",
       "      <td>29</td>\n",
       "      <td>2021-11-08</td>\n",
       "    </tr>\n",
       "    <tr>\n",
       "      <th>1292838</th>\n",
       "      <td>G001</td>\n",
       "      <td>R151</td>\n",
       "      <td>00-05-01</td>\n",
       "      <td>CONEY IS-STILLW</td>\n",
       "      <td>DFNQ</td>\n",
       "      <td>BMT</td>\n",
       "      <td>11/08/2021</td>\n",
       "      <td>00:00:00</td>\n",
       "      <td>RECOVR AUD</td>\n",
       "      <td>0</td>\n",
       "      <td>367</td>\n",
       "      <td>2021-11-08</td>\n",
       "    </tr>\n",
       "  </tbody>\n",
       "</table>\n",
       "</div>"
      ],
      "text/plain": [
       "          C/A  UNIT       SCP          STATION LINENAME DIVISION        DATE  \\\n",
       "1292837  G001  R151  00-05-01  CONEY IS-STILLW     DFNQ      BMT  11/08/2021   \n",
       "1292838  G001  R151  00-05-01  CONEY IS-STILLW     DFNQ      BMT  11/08/2021   \n",
       "\n",
       "             TIME        DESC  ENTRIES  EXITS  DATE_TIME  \n",
       "1292837  00:00:00     REGULAR   327700     29 2021-11-08  \n",
       "1292838  00:00:00  RECOVR AUD        0    367 2021-11-08  "
      ]
     },
     "execution_count": 5,
     "metadata": {},
     "output_type": "execute_result"
    }
   ],
   "source": [
    "# prevvious aggregate shows that station coney and st.george have 2 entries.\n",
    "# what causes multiple entries per turnstile per datetime?\n",
    "# Each datetime should only have 1 entry per tunrstile.\n",
    "# create a mask to analyze station coney\n",
    "mask = (df[(df['C/A'] == 'G001') &\n",
    "          (df['UNIT'] == 'R151') &\n",
    "          (df['SCP'] == '00-05-01') &\n",
    "          (df['STATION'] == 'CONEY IS-STILLW') & \n",
    "          (df['DATE_TIME'] == '2021-11-08 00:00:00')])\n",
    "mask"
   ]
  },
  {
   "cell_type": "code",
   "execution_count": 6,
   "id": "6973a75b",
   "metadata": {},
   "outputs": [],
   "source": [
    "# 'CONEY IS-STILLW' has 2 entries at the same datetime: REGULAR and RECOVER AUD\n",
    "# drop duplicate row of RECOVER AUD and keep REGULAR\n",
    "df.drop_duplicates(subset=['C/A', 'UNIT', 'SCP', 'STATION', 'DATE_TIME'], inplace=True)"
   ]
  },
  {
   "cell_type": "code",
   "execution_count": 7,
   "id": "8534527d",
   "metadata": {},
   "outputs": [
    {
     "data": {
      "text/html": [
       "<div>\n",
       "<style scoped>\n",
       "    .dataframe tbody tr th:only-of-type {\n",
       "        vertical-align: middle;\n",
       "    }\n",
       "\n",
       "    .dataframe tbody tr th {\n",
       "        vertical-align: top;\n",
       "    }\n",
       "\n",
       "    .dataframe thead th {\n",
       "        text-align: right;\n",
       "    }\n",
       "</style>\n",
       "<table border=\"1\" class=\"dataframe\">\n",
       "  <thead>\n",
       "    <tr style=\"text-align: right;\">\n",
       "      <th></th>\n",
       "      <th>C/A</th>\n",
       "      <th>UNIT</th>\n",
       "      <th>SCP</th>\n",
       "      <th>STATION</th>\n",
       "      <th>DATE_TIME</th>\n",
       "      <th>ENTRIES</th>\n",
       "    </tr>\n",
       "  </thead>\n",
       "  <tbody>\n",
       "    <tr>\n",
       "      <th>0</th>\n",
       "      <td>A002</td>\n",
       "      <td>R051</td>\n",
       "      <td>02-00-00</td>\n",
       "      <td>59 ST</td>\n",
       "      <td>2021-09-25 00:00:00</td>\n",
       "      <td>1</td>\n",
       "    </tr>\n",
       "    <tr>\n",
       "      <th>1821692</th>\n",
       "      <td>R141</td>\n",
       "      <td>R031</td>\n",
       "      <td>00-03-02</td>\n",
       "      <td>34 ST-PENN STA</td>\n",
       "      <td>2021-12-21 15:00:00</td>\n",
       "      <td>1</td>\n",
       "    </tr>\n",
       "  </tbody>\n",
       "</table>\n",
       "</div>"
      ],
      "text/plain": [
       "          C/A  UNIT       SCP         STATION           DATE_TIME  ENTRIES\n",
       "0        A002  R051  02-00-00           59 ST 2021-09-25 00:00:00        1\n",
       "1821692  R141  R031  00-03-02  34 ST-PENN STA 2021-12-21 15:00:00        1"
      ]
     },
     "execution_count": 7,
     "metadata": {},
     "output_type": "execute_result"
    }
   ],
   "source": [
    "# check that duplicate entries are removed\n",
    "# each row should display 1 entry after aggregation\n",
    "(df\n",
    " .groupby(['C/A', 'UNIT', 'SCP', 'STATION', 'DATE_TIME'])\n",
    ".ENTRIES.count()\n",
    ".reset_index()\n",
    ".sort_values('ENTRIES', ascending=False)\n",
    ".head(2))"
   ]
  },
  {
   "cell_type": "code",
   "execution_count": 8,
   "id": "1510c11b",
   "metadata": {},
   "outputs": [
    {
     "data": {
      "text/html": [
       "<div>\n",
       "<style scoped>\n",
       "    .dataframe tbody tr th:only-of-type {\n",
       "        vertical-align: middle;\n",
       "    }\n",
       "\n",
       "    .dataframe tbody tr th {\n",
       "        vertical-align: top;\n",
       "    }\n",
       "\n",
       "    .dataframe thead th {\n",
       "        text-align: right;\n",
       "    }\n",
       "</style>\n",
       "<table border=\"1\" class=\"dataframe\">\n",
       "  <thead>\n",
       "    <tr style=\"text-align: right;\">\n",
       "      <th></th>\n",
       "      <th>C/A</th>\n",
       "      <th>UNIT</th>\n",
       "      <th>SCP</th>\n",
       "      <th>STATION</th>\n",
       "      <th>LINENAME</th>\n",
       "      <th>DIVISION</th>\n",
       "      <th>DATE</th>\n",
       "      <th>TIME</th>\n",
       "      <th>ENTRIES</th>\n",
       "      <th>EXITS</th>\n",
       "      <th>DATE_TIME</th>\n",
       "      <th>TURNSTILE</th>\n",
       "    </tr>\n",
       "  </thead>\n",
       "  <tbody>\n",
       "    <tr>\n",
       "      <th>210382</th>\n",
       "      <td>TRAM2</td>\n",
       "      <td>R469</td>\n",
       "      <td>00-05-01</td>\n",
       "      <td>RIT-ROOSEVELT</td>\n",
       "      <td>R</td>\n",
       "      <td>RIT</td>\n",
       "      <td>12/24/2021</td>\n",
       "      <td>20:00:00</td>\n",
       "      <td>5562</td>\n",
       "      <td>994</td>\n",
       "      <td>2021-12-24 20:00:00</td>\n",
       "      <td>TRAM2 R469 00-05-01 RIT-ROOSEVELT</td>\n",
       "    </tr>\n",
       "  </tbody>\n",
       "</table>\n",
       "</div>"
      ],
      "text/plain": [
       "          C/A  UNIT       SCP        STATION LINENAME DIVISION        DATE  \\\n",
       "210382  TRAM2  R469  00-05-01  RIT-ROOSEVELT        R      RIT  12/24/2021   \n",
       "\n",
       "            TIME  ENTRIES  EXITS           DATE_TIME  \\\n",
       "210382  20:00:00     5562    994 2021-12-24 20:00:00   \n",
       "\n",
       "                                TURNSTILE  \n",
       "210382  TRAM2 R469 00-05-01 RIT-ROOSEVELT  "
      ]
     },
     "execution_count": 8,
     "metadata": {},
     "output_type": "execute_result"
    }
   ],
   "source": [
    "# drop the desc column since we don't need it anymore\n",
    "df = df.drop('DESC', axis = 1, errors= 'ignore')\n",
    "\n",
    "# create a column to identify a unique turnstile combination to analyze stations \n",
    "df['TURNSTILE'] = df['C/A'] + ' ' + df['UNIT'] + ' ' + df['SCP'] + ' ' + df['STATION']\n",
    "df.head(1)"
   ]
  },
  {
   "cell_type": "markdown",
   "id": "7859de3c",
   "metadata": {},
   "source": [
    "### Calculate daily entries at a subway station\n",
    "Each turnstile has a counter for the number of entries that doesn't reset at the end of each day - it keeps accumulating entries until the counter is reset. (The counters do get reset occassionally, although this will be handled below). In order to calculate the actual number of entries during a period of time, we need to look at the difference between the current counter value and the previous counter value. "
   ]
  },
  {
   "cell_type": "code",
   "execution_count": 9,
   "id": "e6d0313d",
   "metadata": {},
   "outputs": [
    {
     "data": {
      "text/html": [
       "<div>\n",
       "<style scoped>\n",
       "    .dataframe tbody tr th:only-of-type {\n",
       "        vertical-align: middle;\n",
       "    }\n",
       "\n",
       "    .dataframe tbody tr th {\n",
       "        vertical-align: top;\n",
       "    }\n",
       "\n",
       "    .dataframe thead th {\n",
       "        text-align: right;\n",
       "    }\n",
       "</style>\n",
       "<table border=\"1\" class=\"dataframe\">\n",
       "  <thead>\n",
       "    <tr style=\"text-align: right;\">\n",
       "      <th></th>\n",
       "      <th>TURNSTILE</th>\n",
       "      <th>LINENAME</th>\n",
       "      <th>STATION</th>\n",
       "      <th>DATE</th>\n",
       "      <th>DATE_TIME</th>\n",
       "      <th>ENTRIES</th>\n",
       "      <th>EXITS</th>\n",
       "    </tr>\n",
       "  </thead>\n",
       "  <tbody>\n",
       "    <tr>\n",
       "      <th>210382</th>\n",
       "      <td>TRAM2 R469 00-05-01 RIT-ROOSEVELT</td>\n",
       "      <td>R</td>\n",
       "      <td>RIT-ROOSEVELT</td>\n",
       "      <td>12/24/2021</td>\n",
       "      <td>2021-12-24 20:00:00</td>\n",
       "      <td>5562</td>\n",
       "      <td>994</td>\n",
       "    </tr>\n",
       "    <tr>\n",
       "      <th>210381</th>\n",
       "      <td>TRAM2 R469 00-05-01 RIT-ROOSEVELT</td>\n",
       "      <td>R</td>\n",
       "      <td>RIT-ROOSEVELT</td>\n",
       "      <td>12/24/2021</td>\n",
       "      <td>2021-12-24 16:00:00</td>\n",
       "      <td>5562</td>\n",
       "      <td>994</td>\n",
       "    </tr>\n",
       "  </tbody>\n",
       "</table>\n",
       "</div>"
      ],
      "text/plain": [
       "                                TURNSTILE LINENAME        STATION        DATE  \\\n",
       "210382  TRAM2 R469 00-05-01 RIT-ROOSEVELT        R  RIT-ROOSEVELT  12/24/2021   \n",
       "210381  TRAM2 R469 00-05-01 RIT-ROOSEVELT        R  RIT-ROOSEVELT  12/24/2021   \n",
       "\n",
       "                 DATE_TIME  ENTRIES  EXITS  \n",
       "210382 2021-12-24 20:00:00     5562    994  \n",
       "210381 2021-12-24 16:00:00     5562    994  "
      ]
     },
     "execution_count": 9,
     "metadata": {},
     "output_type": "execute_result"
    }
   ],
   "source": [
    "# create a subset of the original dataframe (df) with only the necessary columns for further analysis.\n",
    "df2 = df[['TURNSTILE','LINENAME','STATION', 'DATE', 'DATE_TIME', 'ENTRIES', 'EXITS']]\n",
    "df2 = pd.DataFrame(df2)\n",
    "\n",
    "# sort the rows based on turnstile and time.\n",
    "df2.sort_values(['TURNSTILE','STATION', 'DATE', 'DATE_TIME'], inplace = True, ascending = False)\n",
    "\n",
    "df2.head(2)"
   ]
  },
  {
   "cell_type": "code",
   "execution_count": 10,
   "id": "f967d1d3",
   "metadata": {},
   "outputs": [],
   "source": [
    "# Create columns containing the datetime and \n",
    "# the entries counter value of the previous row for a particular station.\n",
    "# These will be used to calculate the actual number of entries at a particular time.\n",
    "df2[['PREV_DATE_TIME', 'PREV_ENTRIES', 'PREV_EXITS']] = \\\n",
    "(df2.groupby(['TURNSTILE','STATION'], as_index = False)\\\n",
    " [['DATE_TIME','ENTRIES', 'EXITS']]\\\n",
    " .apply(lambda grp: grp.shift(1)))"
   ]
  },
  {
   "cell_type": "code",
   "execution_count": 11,
   "id": "f6073033",
   "metadata": {},
   "outputs": [
    {
     "data": {
      "text/html": [
       "<div>\n",
       "<style scoped>\n",
       "    .dataframe tbody tr th:only-of-type {\n",
       "        vertical-align: middle;\n",
       "    }\n",
       "\n",
       "    .dataframe tbody tr th {\n",
       "        vertical-align: top;\n",
       "    }\n",
       "\n",
       "    .dataframe thead th {\n",
       "        text-align: right;\n",
       "    }\n",
       "</style>\n",
       "<table border=\"1\" class=\"dataframe\">\n",
       "  <thead>\n",
       "    <tr style=\"text-align: right;\">\n",
       "      <th></th>\n",
       "      <th>TURNSTILE</th>\n",
       "      <th>LINENAME</th>\n",
       "      <th>STATION</th>\n",
       "      <th>DATE</th>\n",
       "      <th>DATE_TIME</th>\n",
       "      <th>ENTRIES</th>\n",
       "      <th>EXITS</th>\n",
       "      <th>PREV_DATE_TIME</th>\n",
       "      <th>PREV_ENTRIES</th>\n",
       "      <th>PREV_EXITS</th>\n",
       "    </tr>\n",
       "  </thead>\n",
       "  <tbody>\n",
       "    <tr>\n",
       "      <th>210381</th>\n",
       "      <td>TRAM2 R469 00-05-01 RIT-ROOSEVELT</td>\n",
       "      <td>R</td>\n",
       "      <td>RIT-ROOSEVELT</td>\n",
       "      <td>12/24/2021</td>\n",
       "      <td>2021-12-24 16:00:00</td>\n",
       "      <td>5562</td>\n",
       "      <td>994</td>\n",
       "      <td>2021-12-24 20:00:00</td>\n",
       "      <td>5562.0</td>\n",
       "      <td>994.0</td>\n",
       "    </tr>\n",
       "  </tbody>\n",
       "</table>\n",
       "</div>"
      ],
      "text/plain": [
       "                                TURNSTILE LINENAME        STATION        DATE  \\\n",
       "210381  TRAM2 R469 00-05-01 RIT-ROOSEVELT        R  RIT-ROOSEVELT  12/24/2021   \n",
       "\n",
       "                 DATE_TIME  ENTRIES  EXITS      PREV_DATE_TIME  PREV_ENTRIES  \\\n",
       "210381 2021-12-24 16:00:00     5562    994 2021-12-24 20:00:00        5562.0   \n",
       "\n",
       "        PREV_EXITS  \n",
       "210381       994.0  "
      ]
     },
     "execution_count": 11,
     "metadata": {},
     "output_type": "execute_result"
    }
   ],
   "source": [
    "# Drop rows that don't have values for the previous datetime and number of entries\n",
    "# (since we can't calculate the difference)\n",
    "df2.dropna(subset=['PREV_DATE_TIME'], axis = 0, inplace=True)\n",
    "\n",
    "#check for null values\n",
    "df2.isna().sum()\n",
    "df2.head(1)"
   ]
  },
  {
   "cell_type": "markdown",
   "id": "3a3f232f",
   "metadata": {},
   "source": [
    "#### Apply counter to entries and exits\n",
    "\n",
    "Calculate actual entries and exits by applying a function that takes into account that a counter reset number of entries after it reaches a maximum count"
   ]
  },
  {
   "cell_type": "code",
   "execution_count": 12,
   "id": "770ee065",
   "metadata": {},
   "outputs": [],
   "source": [
    "# function returns entries data assuming counter was reset\n",
    "# max_count: number at which counter resets\n",
    "def entries_counter(row, max_count):\n",
    "    \n",
    "    # entries data are cumulative \n",
    "    # to calculate entries per day, take the difference from the previous day\n",
    "    count = row['ENTRIES'] - row['PREV_ENTRIES']\n",
    "    \n",
    "    # if count is a negative value, assume that counter is in reverse,\n",
    "    # get a positive value instead\n",
    "    if count < 0:\n",
    "        count = -count\n",
    "    \n",
    "    # assume counter was reset to 0, choose min value \n",
    "    if count > max_count:\n",
    "        count = min(row['ENTRIES'], row['PREV_ENTRIES'])\n",
    "    \n",
    "    # check again if minimum value of entries is still greater than max count\n",
    "    # return zero if that is the case\n",
    "    if count > max_count:\n",
    "        return 0\n",
    "    \n",
    "    return count"
   ]
  },
  {
   "cell_type": "code",
   "execution_count": 13,
   "id": "e026705a",
   "metadata": {},
   "outputs": [],
   "source": [
    "# exits counter, copied from entries_counter function\n",
    "def exits_counter(row, max_count):\n",
    "    count = row['EXITS'] - row['PREV_EXITS']\n",
    "    if count < 0:\n",
    "        count = -count\n",
    "    if count > max_count:\n",
    "        count = min(row['EXITS'], row['PREV_EXITS'])\n",
    "    if count > max_count:\n",
    "        return 0\n",
    "    return count"
   ]
  },
  {
   "cell_type": "markdown",
   "id": "4ddab2e8",
   "metadata": {},
   "source": [
    "Reset the counter at 172,800. Assumptions made:\n",
    "* There are 86,400 seconds per day. \n",
    "* Assuming 2 entries per turnstile per second, a single turnstile can have up to 172,800 entries per day. "
   ]
  },
  {
   "cell_type": "code",
   "execution_count": 15,
   "id": "ba385f4e",
   "metadata": {},
   "outputs": [
    {
     "data": {
      "text/html": [
       "<div>\n",
       "<style scoped>\n",
       "    .dataframe tbody tr th:only-of-type {\n",
       "        vertical-align: middle;\n",
       "    }\n",
       "\n",
       "    .dataframe tbody tr th {\n",
       "        vertical-align: top;\n",
       "    }\n",
       "\n",
       "    .dataframe thead th {\n",
       "        text-align: right;\n",
       "    }\n",
       "</style>\n",
       "<table border=\"1\" class=\"dataframe\">\n",
       "  <thead>\n",
       "    <tr style=\"text-align: right;\">\n",
       "      <th></th>\n",
       "      <th>TURNSTILE</th>\n",
       "      <th>LINENAME</th>\n",
       "      <th>STATION</th>\n",
       "      <th>DATE</th>\n",
       "      <th>DATE_TIME</th>\n",
       "      <th>ENTRIES</th>\n",
       "      <th>EXITS</th>\n",
       "      <th>PREV_DATE_TIME</th>\n",
       "      <th>PREV_ENTRIES</th>\n",
       "      <th>PREV_EXITS</th>\n",
       "      <th>DAILY_ENTRIES</th>\n",
       "      <th>DAILY_EXITS</th>\n",
       "    </tr>\n",
       "  </thead>\n",
       "  <tbody>\n",
       "    <tr>\n",
       "      <th>210381</th>\n",
       "      <td>TRAM2 R469 00-05-01 RIT-ROOSEVELT</td>\n",
       "      <td>R</td>\n",
       "      <td>RIT-ROOSEVELT</td>\n",
       "      <td>12/24/2021</td>\n",
       "      <td>2021-12-24 16:00:00</td>\n",
       "      <td>5562</td>\n",
       "      <td>994</td>\n",
       "      <td>2021-12-24 20:00:00</td>\n",
       "      <td>5562.0</td>\n",
       "      <td>994.0</td>\n",
       "      <td>0.0</td>\n",
       "      <td>0.0</td>\n",
       "    </tr>\n",
       "    <tr>\n",
       "      <th>210380</th>\n",
       "      <td>TRAM2 R469 00-05-01 RIT-ROOSEVELT</td>\n",
       "      <td>R</td>\n",
       "      <td>RIT-ROOSEVELT</td>\n",
       "      <td>12/24/2021</td>\n",
       "      <td>2021-12-24 12:00:00</td>\n",
       "      <td>5562</td>\n",
       "      <td>979</td>\n",
       "      <td>2021-12-24 16:00:00</td>\n",
       "      <td>5562.0</td>\n",
       "      <td>994.0</td>\n",
       "      <td>0.0</td>\n",
       "      <td>15.0</td>\n",
       "    </tr>\n",
       "  </tbody>\n",
       "</table>\n",
       "</div>"
      ],
      "text/plain": [
       "                                TURNSTILE LINENAME        STATION        DATE  \\\n",
       "210381  TRAM2 R469 00-05-01 RIT-ROOSEVELT        R  RIT-ROOSEVELT  12/24/2021   \n",
       "210380  TRAM2 R469 00-05-01 RIT-ROOSEVELT        R  RIT-ROOSEVELT  12/24/2021   \n",
       "\n",
       "                 DATE_TIME  ENTRIES  EXITS      PREV_DATE_TIME  PREV_ENTRIES  \\\n",
       "210381 2021-12-24 16:00:00     5562    994 2021-12-24 20:00:00        5562.0   \n",
       "210380 2021-12-24 12:00:00     5562    979 2021-12-24 16:00:00        5562.0   \n",
       "\n",
       "        PREV_EXITS  DAILY_ENTRIES  DAILY_EXITS  \n",
       "210381       994.0            0.0          0.0  \n",
       "210380       994.0            0.0         15.0  "
      ]
     },
     "execution_count": 15,
     "metadata": {},
     "output_type": "execute_result"
    }
   ],
   "source": [
    "# Now we can calculate actual entries from the cumulative entries.\n",
    "# create a new column displaying actual entries per day\n",
    "# apply entries_ounter function\n",
    "df2['DAILY_ENTRIES'] = df2.apply(entries_counter, axis = 1, max_count = 172_800)\n",
    "\n",
    "df2['DAILY_EXITS'] = df2.apply(exits_counter, axis = 1, max_count = 94_360)\n",
    "df2.head(2)"
   ]
  },
  {
   "cell_type": "markdown",
   "id": "05a50c93",
   "metadata": {},
   "source": [
    "### Calculate total entries of each station"
   ]
  },
  {
   "cell_type": "code",
   "execution_count": 16,
   "id": "307caf6c",
   "metadata": {},
   "outputs": [
    {
     "data": {
      "text/html": [
       "<div>\n",
       "<style scoped>\n",
       "    .dataframe tbody tr th:only-of-type {\n",
       "        vertical-align: middle;\n",
       "    }\n",
       "\n",
       "    .dataframe tbody tr th {\n",
       "        vertical-align: top;\n",
       "    }\n",
       "\n",
       "    .dataframe thead th {\n",
       "        text-align: right;\n",
       "    }\n",
       "</style>\n",
       "<table border=\"1\" class=\"dataframe\">\n",
       "  <thead>\n",
       "    <tr style=\"text-align: right;\">\n",
       "      <th></th>\n",
       "      <th>index</th>\n",
       "      <th>STATION</th>\n",
       "      <th>DAILY_ENTRIES</th>\n",
       "      <th>DAILY_EXITS</th>\n",
       "    </tr>\n",
       "  </thead>\n",
       "  <tbody>\n",
       "    <tr>\n",
       "      <th>0</th>\n",
       "      <td>61</td>\n",
       "      <td>34 ST-PENN STA</td>\n",
       "      <td>4841767.0</td>\n",
       "      <td>6930502.0</td>\n",
       "    </tr>\n",
       "    <tr>\n",
       "      <th>1</th>\n",
       "      <td>258</td>\n",
       "      <td>JOURNAL SQUARE</td>\n",
       "      <td>3722143.0</td>\n",
       "      <td>2604363.0</td>\n",
       "    </tr>\n",
       "  </tbody>\n",
       "</table>\n",
       "</div>"
      ],
      "text/plain": [
       "   index         STATION  DAILY_ENTRIES  DAILY_EXITS\n",
       "0     61  34 ST-PENN STA      4841767.0    6930502.0\n",
       "1    258  JOURNAL SQUARE      3722143.0    2604363.0"
      ]
     },
     "execution_count": 16,
     "metadata": {},
     "output_type": "execute_result"
    }
   ],
   "source": [
    "# calculate total entries (sum) for station\n",
    "station_total_entries = (df2.groupby('STATION', as_index = False)\n",
    "                         [['DAILY_ENTRIES', 'DAILY_EXITS']].sum()\n",
    "                         .sort_values('DAILY_ENTRIES', ascending = False)\n",
    "                         .reset_index())\n",
    "\n",
    "station_total_entries.head(2)"
   ]
  },
  {
   "cell_type": "code",
   "execution_count": 17,
   "id": "19cb248a",
   "metadata": {},
   "outputs": [
    {
     "data": {
      "text/plain": [
       "Text(0.5, 1.0, 'Total entries of the top 10 busiest stations')"
      ]
     },
     "execution_count": 17,
     "metadata": {},
     "output_type": "execute_result"
    },
    {
     "data": {
      "image/png": "[encoded data removed]",
      "text/plain": [
       "<Figure size 720x360 with 1 Axes>"
      ]
     },
     "metadata": {
      "needs_background": "light"
     },
     "output_type": "display_data"
    }
   ],
   "source": [
    "# plot bar chart displaying total entries of top 10 stations \n",
    "plt.figure(figsize=[10,5])\n",
    "\n",
    "plt.bar(x = station_total_entries['STATION'][:10], height = station_total_entries['DAILY_ENTRIES'][:10], \\\n",
    "        color='green')\n",
    "plt.xticks(rotation = 90)\n",
    "plt.ylabel('Total entries', size=12)\n",
    "plt.title('Total entries of the top 10 busiest stations', size=18)"
   ]
  },
  {
   "cell_type": "markdown",
   "id": "0009b272",
   "metadata": {},
   "source": [
    "* The busiest station is 34 ST-PENN STA.\n",
    "For analyis, I'd like to scope on the trains through this station"
   ]
  },
  {
   "cell_type": "code",
   "execution_count": 18,
   "id": "d633c483",
   "metadata": {},
   "outputs": [
    {
     "data": {
      "text/html": [
       "<div>\n",
       "<style scoped>\n",
       "    .dataframe tbody tr th:only-of-type {\n",
       "        vertical-align: middle;\n",
       "    }\n",
       "\n",
       "    .dataframe tbody tr th {\n",
       "        vertical-align: top;\n",
       "    }\n",
       "\n",
       "    .dataframe thead th {\n",
       "        text-align: right;\n",
       "    }\n",
       "</style>\n",
       "<table border=\"1\" class=\"dataframe\">\n",
       "  <thead>\n",
       "    <tr style=\"text-align: right;\">\n",
       "      <th></th>\n",
       "      <th>STATION</th>\n",
       "      <th>DATE_TIME</th>\n",
       "      <th>DAILY_ENTRIES</th>\n",
       "      <th>DAILY_EXITS</th>\n",
       "    </tr>\n",
       "  </thead>\n",
       "  <tbody>\n",
       "    <tr>\n",
       "      <th>0</th>\n",
       "      <td>1 AV</td>\n",
       "      <td>2021-09-25 00:00:00</td>\n",
       "      <td>585.0</td>\n",
       "      <td>1262.0</td>\n",
       "    </tr>\n",
       "    <tr>\n",
       "      <th>1</th>\n",
       "      <td>1 AV</td>\n",
       "      <td>2021-09-25 04:00:00</td>\n",
       "      <td>225.0</td>\n",
       "      <td>760.0</td>\n",
       "    </tr>\n",
       "  </tbody>\n",
       "</table>\n",
       "</div>"
      ],
      "text/plain": [
       "  STATION           DATE_TIME  DAILY_ENTRIES  DAILY_EXITS\n",
       "0    1 AV 2021-09-25 00:00:00          585.0       1262.0\n",
       "1    1 AV 2021-09-25 04:00:00          225.0        760.0"
      ]
     },
     "execution_count": 18,
     "metadata": {},
     "output_type": "execute_result"
    }
   ],
   "source": [
    "# Filter data by station\n",
    "station_datetime_entries = (df2.groupby(['STATION', 'DATE_TIME'], as_index = False)\n",
    "                        [['DAILY_ENTRIES', 'DAILY_EXITS']]\n",
    "                        .sum())\n",
    "station_datetime_entries.head(2)"
   ]
  },
  {
   "cell_type": "markdown",
   "id": "12ee6f2d",
   "metadata": {},
   "source": [
    "### Analysis\n",
    "\n",
    "* Station: 34 ST-PENN STA (busiest station)\n",
    "\n",
    "* This station serves 6 lines: 1,2,3,A,C,E (Source: [MTA subway may](https://new.mta.info/maps))\n",
    "\n",
    "* Line: Pick train 1\n",
    "\n",
    "* Days: weekdays only\n",
    "\n",
    "* Train schedule timetable does not have exact time for 34 ST-PENN STA, so I will look at the other stations on line 1 that are on the train schedule"
   ]
  },
  {
   "cell_type": "code",
   "execution_count": null,
   "id": "9280700f",
   "metadata": {},
   "outputs": [],
   "source": [
    "# filter Weekday entries at stations\n",
    "# ceate a column with hour of the day\n",
    "station_datetime_entries['TIME'] = station_datetime_entries['DATE_TIME'].dt.time\n",
    "\n",
    "# create a column with day of the week as displayed as a number\n",
    "# number 0 - 4 is Monday to Friday\n",
    "# number 5 is saturday and 6 is sunday\n",
    "station_datetime_entries['DAY_OF_WEEK'] = pd.to_datetime(station_datetime_entries['DATE_TIME']).dt.dayofweek\n",
    "\n",
    "# Filter to show weekdays only\n",
    "weekday_station_entries = (station_datetime_entries[\n",
    "    (station_datetime_entries['DAY_OF_WEEK'] != 5) & \n",
    "    (station_datetime_entries['DAY_OF_WEEK'] != 6)])\n",
    "\n",
    "weekday_station_entries.head(2)"
   ]
  },
  {
   "cell_type": "markdown",
   "id": "6d474e56",
   "metadata": {},
   "source": [
    "### Load train1 schedule"
   ]
  },
  {
   "cell_type": "code",
   "execution_count": null,
   "id": "5c4193f3",
   "metadata": {},
   "outputs": [],
   "source": [
    "# Load train schedule as an excel file\n",
    "# Source: https://new.mta.info/schedules\n",
    "# Copied timetable from a .pdf file into an excel file.\n",
    "train_1_schedule = pd.read_excel('Train_1_schedule2.xlsx')\n",
    "\n",
    "# Get names of all stations that train 1 travels too\n",
    "stations_name = list(train_1_schedule.columns)\n",
    "stations_name"
   ]
  },
  {
   "cell_type": "code",
   "execution_count": null,
   "id": "1d1bdd62",
   "metadata": {},
   "outputs": [],
   "source": [
    "# time is in the format hh:mm:ss\n",
    "# round the timestamp to the nearest hour\n",
    "# return hour as an integer\n",
    "# e.g. 03:30:00 will return the integer 4\n",
    "def round_hour(TIME):\n",
    "    \n",
    "    # round hour up if it is greater than 30 min else round hour down\n",
    "    # e.g 03:35:00 will return 04:00:00\n",
    "    if TIME.minute >= 30:\n",
    "        timeString = str(TIME.replace(second=0, microsecond=0, minute=0, hour=TIME.hour+1))\n",
    "    else:\n",
    "        timeString = str(TIME.replace(second=0, microsecond=0, minute=0))\n",
    "        \n",
    "    # only return the hour portion of TIME diplayed as two digits (e.g. 04, 12, and etc)\n",
    "    # for single digit hour (e.g 04) we will return the second digit (index 1), omitting the zeros\n",
    "    # e.g 04 will return 4\n",
    "    # for 2 digits hour (e.g 12) we will return both digits (index 0:2)\n",
    "    if timeString[0] == '0':\n",
    "        return int(timeString[1])\n",
    "    \n",
    "    else:\n",
    "        return int(timeString[0:2]) "
   ]
  },
  {
   "cell_type": "code",
   "execution_count": null,
   "id": "c2d6e026",
   "metadata": {},
   "outputs": [],
   "source": [
    "# filter ridership for weekdays only\n",
    "def station_ridership(station_name):\n",
    "    \n",
    "    #Filter station with station name from weekday_station_entries\n",
    "    station_entries = (weekday_station_entries\n",
    "                  [weekday_station_entries['STATION'] == station_name])\n",
    "\n",
    "    # apply function round_hour to round timestamp to the nearest hour\n",
    "    # Create an HOUR column where we round time to nearest hour\n",
    "    station_entries['HOUR'] = station_entries.loc[:,'TIME'].apply(round_hour)\n",
    "    \n",
    "    return station_entries"
   ]
  },
  {
   "cell_type": "code",
   "execution_count": null,
   "id": "e0b467df",
   "metadata": {},
   "outputs": [],
   "source": [
    "# calculate hourly entries given a station name\n",
    "def hourly_entries(station_name):\n",
    "\n",
    "    #calculate weekday entries using 'station_ridership' given station_name\n",
    "    df = station_ridership(station_name)\n",
    "    \n",
    "    # calculate hourly entrries \n",
    "    hourly_entries = (df.groupby('HOUR', as_index=False)\n",
    "                   ['DAILY_ENTRIES'].mean()\n",
    "                   .sort_values('HOUR'))\n",
    "    \n",
    "    hourly_entries = hourly_entries.rename(columns={'DAILY_ENTRIES':station_name}) \n",
    "    \n",
    "    return hourly_entries"
   ]
  },
  {
   "cell_type": "code",
   "execution_count": null,
   "id": "99096ba7",
   "metadata": {},
   "outputs": [],
   "source": [
    "# calculate hourly exits given a station name\n",
    "# similar to hourly entries function\n",
    "def hourly_exits(station_name):\n",
    "\n",
    "    #calculate exits at the station using function 'station_ridership'\n",
    "    df = station_ridership(station_name)\n",
    "    hourly_exits = (df.groupby('HOUR', as_index=False)\n",
    "                   ['DAILY_EXITS'].mean()\n",
    "                   .sort_values('HOUR'))\n",
    "    \n",
    "    # update name to exits\n",
    "    hourly_exits = hourly_exits.rename(columns={'DAILY_EXITS':station_name}) \n",
    "    \n",
    "    return hourly_exits"
   ]
  },
  {
   "cell_type": "code",
   "execution_count": null,
   "id": "a7f0071c",
   "metadata": {},
   "outputs": [],
   "source": [
    "hourly_exits(stations_name[0])"
   ]
  },
  {
   "cell_type": "markdown",
   "id": "5557db19",
   "metadata": {},
   "source": [
    "#### Hourly exits stations with train 1"
   ]
  },
  {
   "cell_type": "code",
   "execution_count": null,
   "id": "8c765f07",
   "metadata": {},
   "outputs": [],
   "source": [
    "# apply function hourly_exits for each station to show number of exits at each hour\n",
    "# stations_name is a list of stations name where train 1 runs through\n",
    "\n",
    "# create a table showing cumulative exits for each station at each hour\n",
    "\n",
    "# initialize a table with first station name\n",
    "hourly_exits_df = hourly_exits(stations_name[0])\n",
    "\n",
    "for i in range(1, len(stations_name)):\n",
    "    tables = hourly_exits(stations_name[i])\n",
    "    # add stations_name to previously created table 'hourly_exits'\n",
    "    hourly_exits_df = pd.merge(hourly_exits_df, tables, on='HOUR', how='outer')\n",
    "    \n",
    "hourly_exits_df = hourly_exits_df.sort_values('HOUR')\n",
    "hourly_exits_df = hourly_exits_df.fillna(0)\n",
    "\n",
    "hourly_exits_df.head(2)"
   ]
  },
  {
   "cell_type": "markdown",
   "id": "e0525d9e",
   "metadata": {},
   "source": [
    "#### Hourly entries stations with train 1"
   ]
  },
  {
   "cell_type": "code",
   "execution_count": null,
   "id": "8cbe06ac",
   "metadata": {},
   "outputs": [],
   "source": [
    "# create a table showing cumulative entries for each station at each hour\n",
    "# similar to exits table\n",
    "hourly_entries_df = hourly_entries(stations_name[0])\n",
    "\n",
    "for i in range(1, len(stations_name)):\n",
    "    tables = hourly_entries(stations_name[i])\n",
    "    hourly_entries_df = pd.merge(hourly_entries_df,tables, on='HOUR', how='outer')\n",
    "    \n",
    "hourly_entries_df = hourly_entries_df.sort_values('HOUR')\n",
    "hourly_entries_df = hourly_entries_df.fillna(0)\n",
    "\n",
    "hourly_entries_df.head(1)"
   ]
  },
  {
   "cell_type": "markdown",
   "id": "f5a68d32",
   "metadata": {},
   "source": [
    "### Schedule of Train 1 "
   ]
  },
  {
   "cell_type": "code",
   "execution_count": null,
   "id": "679765d2",
   "metadata": {},
   "outputs": [],
   "source": [
    "# Round up time stamp to the nearest hour\n",
    "# e.g. 1:14:00 will return 2 \n",
    "# Timestamp in 24 hour format\n",
    "# Return values ranging from 0 to 23. \n",
    "# 24:00 (midnight) will return 0, while 23:00 (11:00 PM) will return 23)\n",
    "\n",
    "def convert_to_hour(TIME):\n",
    "    # return -1 for strings, blank spaces and anything that is not a time object. \n",
    "    if (isinstance(TIME, str)) or (isinstance(TIME, float)):\n",
    "        return -1\n",
    "    \n",
    "    # Round up timestamp to the nearest hour\n",
    "    if TIME.minute > 0:\n",
    "        hour = TIME.hour + 1\n",
    "    else:\n",
    "        hour = TIME.hour\n",
    "        \n",
    "    if (hour == 24):\n",
    "        return 0\n",
    "    return hour\n",
    "\n",
    "# apply function to column\n",
    "def convert_column(col):\n",
    "    return col.apply(convert_to_hour)"
   ]
  },
  {
   "cell_type": "code",
   "execution_count": null,
   "id": "258848e4",
   "metadata": {},
   "outputs": [],
   "source": [
    "# calculate how many trains arriving each hour \n",
    "# Each value in the dataframe represents one train arriving at the hour. \n",
    "train_1_hourly = train_1_schedule.apply(convert_column)\n",
    "\n",
    "train_1_hourly.head(2)"
   ]
  },
  {
   "cell_type": "code",
   "execution_count": null,
   "id": "b099a69d",
   "metadata": {},
   "outputs": [],
   "source": [
    "# group column by hour and count entries\n",
    "first_column = True;\n",
    "total = None;\n",
    "\n",
    "for col in train_1_hourly.columns:\n",
    "    countColumn = \"SOUTH FERRY\"\n",
    "    if col == \"SOUTH FERRY\":\n",
    "        countColumn = \"CHAMBERS ST\"\n",
    "    \n",
    "    num_trains = train_1_hourly.groupby(col, as_index=False).count()\\\n",
    "    .rename(columns={col:'HOUR', countColumn:col})\n",
    "    num_trains = num_trains[[\"HOUR\", col]]\n",
    "\n",
    "    if first_column == True:\n",
    "        total = num_trains\n",
    "        first_column = False\n",
    "    else:\n",
    "        total = pd.merge(total, num_trains, on=\"HOUR\", how=\"outer\")"
   ]
  },
  {
   "cell_type": "code",
   "execution_count": null,
   "id": "efd9276b",
   "metadata": {},
   "outputs": [],
   "source": [
    "total = total.sort_values('HOUR')"
   ]
  },
  {
   "cell_type": "code",
   "execution_count": null,
   "id": "65fea51e",
   "metadata": {},
   "outputs": [],
   "source": [
    "# drop first row. First row contains empty values. \n",
    "total = total.iloc[1: , :]"
   ]
  },
  {
   "cell_type": "markdown",
   "id": "a96dc379",
   "metadata": {},
   "source": [
    "* Trains come from both sides of the terminal (Bronx and Manhattan bound)\n",
    "To account for that, multiply the trains numbers by 2"
   ]
  },
  {
   "cell_type": "code",
   "execution_count": null,
   "id": "df888f55",
   "metadata": {},
   "outputs": [],
   "source": [
    "total_trains1 = total.apply(lambda x: x*2)\n",
    "# Hour column should remain in the previous value\n",
    "total_trains1['HOUR'] = total_trains1['HOUR']/2"
   ]
  },
  {
   "cell_type": "code",
   "execution_count": null,
   "id": "d27f51f1",
   "metadata": {},
   "outputs": [],
   "source": [
    "total_trains1.head(2)"
   ]
  },
  {
   "cell_type": "markdown",
   "id": "9e78c952",
   "metadata": {},
   "source": [
    "### Graph entries or exits of selective stations on line 1 with train schedule"
   ]
  },
  {
   "cell_type": "code",
   "execution_count": null,
   "id": "b3df3b84",
   "metadata": {},
   "outputs": [],
   "source": [
    "# Plot entries of selective stations on line 1 with one train schedule\n",
    "\n",
    "# stations_name: list of stations name\n",
    "# hourly_df: hourly_entries_df or hourly_exits_df\n",
    "# entries_or_exits: string for 'exits' or 'entries'\n",
    "\n",
    "def ridership_schedule(stations_name, hourly_df, entries_or_exits):\n",
    "    fig, ax1 = plt.subplots(figsize=[12,6])\n",
    "    label = entries_or_exits\n",
    "\n",
    "    # set title\n",
    "    ax1.set_title('{} of stations with train 1'.format(label), fontsize=16, weight='bold')\n",
    "\n",
    "    # set ticks\n",
    "    ticks_size = 12\n",
    "    ax1.set_xticks(np.arange(0,24,1))\n",
    "    ax1.tick_params(axis='both', labelsize=ticks_size)\n",
    "\n",
    "    # set axis labels\n",
    "    label_size = 12\n",
    "    ax1.set_xlabel('Hour', fontsize=label_size) \n",
    "    ax1.set_ylabel(label, fontsize=label_size)\n",
    "\n",
    "    legend_size = 12\n",
    "\n",
    "    df = hourly_df\n",
    "    for i in range(len(stations_name)):\n",
    "        ax1.plot(df['HOUR'], df[stations_name[i]],label=stations_name[i], linestyle='--')\n",
    "        ax1.legend(fontsize=legend_size)\n",
    "\n",
    "    # Plot train schedule of 96 ST, located ~ halfway of line 1   \n",
    "    ax2 = ax1.twinx()\n",
    "    ax2.plot(total_trains1['HOUR'], total_trains1['96 ST'], \\\n",
    "             color = 'black',label ='# of Trains')\n",
    "\n",
    "    ax2.set_ylabel(\"Number of train 1\",fontsize=label_size)\n",
    "    ax2.legend(fontsize=legend_size)\n",
    "    ax2.tick_params(axis='y', labelsize=ticks_size)"
   ]
  },
  {
   "cell_type": "code",
   "execution_count": null,
   "id": "721f4de5",
   "metadata": {},
   "outputs": [],
   "source": [
    "# Plot exits\n",
    "ridership_schedule(stations_name, hourly_exits_df, 'Exits')\n",
    "plt.savefig('exits_train1.png')"
   ]
  },
  {
   "cell_type": "code",
   "execution_count": null,
   "id": "16cc966f",
   "metadata": {},
   "outputs": [],
   "source": [
    "# Plot entries\n",
    "ridership_schedule(stations_name, hourly_entries_df, 'Entries')\n",
    "plt.savefig('entries_train1.png')"
   ]
  },
  {
   "cell_type": "markdown",
   "id": "53bc6870",
   "metadata": {},
   "source": [
    "* Observations:\n",
    "Ridership and entries and exits do not alighn with peak time of train arrival"
   ]
  },
  {
   "cell_type": "markdown",
   "id": "75d7cfa7",
   "metadata": {},
   "source": [
    "### Plot station entries and exits with schedule of train 1"
   ]
  },
  {
   "cell_type": "code",
   "execution_count": null,
   "id": "a00941cd",
   "metadata": {},
   "outputs": [],
   "source": [
    "# Function to plot entries, exits, and train schedule of a station into one plot\n",
    "def plot_train_station2(station_name, ax1):  \n",
    "    station_df = hourly_entries(station_name)\n",
    "    \n",
    "    # set title\n",
    "    ax1.set_title('Station: {}'.format(station_name), fontsize=10, weight='bold')\n",
    "    \n",
    "    # set axis labels\n",
    "    label_size = 8\n",
    "    ax1.set_xlabel('Hour', fontsize=label_size) \n",
    "    ax1.set_ylabel('Entries', fontsize=label_size) \n",
    "\n",
    "    #set ticks\n",
    "    ticks_size = 8\n",
    "    ax1.set_xticks(np.arange(0,24,2), fontsize=ticks_size)\n",
    "    ax1.tick_params(axis='both', labelsize=ticks_size)\n",
    "\n",
    "    # Entries\n",
    "    ax1.plot(station_df['HOUR'], station_df[station_name],\\\n",
    "             color = 'blue', label='Entries') \n",
    "    \n",
    "    exits_df = hourly_exits(station_name)\n",
    "    # Exits data\n",
    "    ax1.plot(exits_df['HOUR'], exits_df[station_name],\\\n",
    "             color = 'green', label='Exits') \n",
    "      \n",
    "    # Train data\n",
    "    ax2 = ax1.twinx() \n",
    "\n",
    "    ax2.plot(total_trains1['HOUR'], total_trains1[station_name],\\\n",
    "             color = 'red', linestyle='--', label='# of Trains') \n",
    "    \n",
    "    # set axis labels\n",
    "    ax2.set_ylabel('Number of train 1', color = 'red', fontsize=label_size) \n",
    "    \n",
    "    #set ticks\n",
    "    ax2.tick_params(axis='y', labelsize=ticks_size)\n",
    "    ax2.set_yticks(np.arange(0,31,5), fontsize=ticks_size)\n",
    "    \n",
    "    # legend\n",
    "    legend_size = 8\n",
    "    ax1.legend(loc=1, bbox_to_anchor=(0.26, 1), fontsize=legend_size)\n",
    "    ax2.legend(loc=1, bbox_to_anchor=(0.26, 0.85), fontsize=legend_size)"
   ]
  },
  {
   "cell_type": "code",
   "execution_count": null,
   "id": "2cb37b93",
   "metadata": {},
   "outputs": [],
   "source": [
    "# Make subplots of exits, entries, train schedule for each station.\n",
    "fig, axs = plt.subplots(5, 2, figsize=[12,26])\n",
    "\n",
    "for i in range(len(stations_name)):\n",
    "    first_index = i // 2\n",
    "    second_index = i % 2\n",
    "    plot_train_station2(stations_name[i], axs[first_index, second_index])    \n",
    "plt.savefig('subplots_train1.png')"
   ]
  },
  {
   "cell_type": "markdown",
   "id": "8f0eb510",
   "metadata": {},
   "source": [
    "* In the individual subplots, we observe that the peak hours of trains do not align with the peak hours of entries or exits at the station\n",
    "\n",
    "* For the majority of stations, the peak hours for entries and exits align with each other. This means people get on and off at these stations on the peak hours\n",
    "\n",
    "* For the stations in the neighborhouds (Bronx, station 238 ST), we observe peak entries in the mornings ~ 4am and peak exits in the afternoon ~ 16.00 PM"
   ]
  }
 ],
 "metadata": {
  "kernelspec": {
   "display_name": "Python [conda env:metis] *",
   "language": "python",
   "name": "conda-env-metis-py"
  },
  "language_info": {
   "codemirror_mode": {
    "name": "ipython",
    "version": 3
   },
   "file_extension": ".py",
   "mimetype": "text/x-python",
   "name": "python",
   "nbconvert_exporter": "python",
   "pygments_lexer": "ipython3",
   "version": "3.9.10"
  }
 },
 "nbformat": 4,
 "nbformat_minor": 5
}
